{
 "cells": [
  {
   "cell_type": "code",
   "execution_count": 1,
   "metadata": {},
   "outputs": [
    {
     "name": "stderr",
     "output_type": "stream",
     "text": [
      "WARNING:hyperspy.api:The ipywidgets GUI elements are not available, probably because the hyperspy_gui_ipywidgets package is not installed.\n",
      "WARNING:hyperspy.api:The traitsui GUI elements are not available, probably because the hyperspy_gui_traitui package is not installed.\n"
     ]
    }
   ],
   "source": [
    "import hyperspy.api as hs\n",
    "import os\n",
    "%matplotlib tk"
   ]
  },
  {
   "cell_type": "code",
   "execution_count": 2,
   "metadata": {},
   "outputs": [
    {
     "name": "stdout",
     "output_type": "stream",
     "text": [
      "['scratch_Map_10.crc', 'scratch_Map_10.cpr', 'scratch_Map_1.cpr', 'scratch_Map_10.tif', 'scratch_Map_1.crc', 'scratch_Map_1.tif']\n"
     ]
    }
   ],
   "source": [
    "folder = \"./../../data/EBSD_from_NPL_10102017/\"\n",
    "files = os.listdir(folder) # returns list\n",
    "print(files)"
   ]
  },
  {
   "cell_type": "code",
   "execution_count": 3,
   "metadata": {},
   "outputs": [
    {
     "data": {
      "text/plain": [
       "├── bits_per_sample = (8, 8, 8)\n",
       "├── compression = 1\n",
       "├── image_length = 1103\n",
       "├── image_width = 1036\n",
       "├── new_subfile_type = 0\n",
       "├── photometric = 2\n",
       "├── planar_configuration = 1\n",
       "├── resolution_unit = 2\n",
       "├── rows_per_strip = 1103\n",
       "├── samples_per_pixel = 3\n",
       "├── software = b'H\\x00K\\x00L\\x00T\\x00e'\n",
       "├── strip_byte_counts = (3428124,)\n",
       "├── strip_offsets = (56,)\n",
       "├── x_resolution = (877, 10)\n",
       "└── y_resolution = (877, 10)"
      ]
     },
     "execution_count": 3,
     "metadata": {},
     "output_type": "execute_result"
    }
   ],
   "source": [
    "scratch_s = hs.load(folder+files[5])\n",
    "scratch_s.original_metadata"
   ]
  },
  {
   "cell_type": "code",
   "execution_count": 6,
   "metadata": {
    "collapsed": true
   },
   "outputs": [],
   "source": [
    "scratch_s.plot(navigator='slider')"
   ]
  },
  {
   "cell_type": "code",
   "execution_count": 5,
   "metadata": {},
   "outputs": [
    {
     "data": {
      "text/plain": [
       "array([[(  0,  43, 212), (  0,  39, 216), (  0,  58, 197), ...,\n",
       "        (  0,  43, 212), (  0,  49, 206), (  0,  33, 222)],\n",
       "       [(  0,  79, 176), (  0,  76, 179), (  0,  79, 176), ...,\n",
       "        (  0,  36, 219), (  0,  43, 212), (  0,  49, 206)],\n",
       "       [(  0, 134, 121), (  0, 109, 146), (  0,  88, 167), ...,\n",
       "        (  0,  30, 225), (  0,  36, 219), (  0,  49, 206)],\n",
       "       ..., \n",
       "       [(  0,   0,   0), (255, 255, 255), (255, 255, 255), ...,\n",
       "        (255, 255, 255), (  0,   0,   0), (  0,   0,   0)],\n",
       "       [(  0,   0,   0), (255, 255, 255), (255, 255, 255), ...,\n",
       "        (255, 255, 255), (  0,   0,   0), (  0,   0,   0)],\n",
       "       [(  0,   0,   0), (  0,   0,   0), (  0,   0,   0), ...,\n",
       "        (  0,   0,   0), (  0,   0,   0), (  0,   0,   0)]],\n",
       "      dtype=[('R', 'u1'), ('G', 'u1'), ('B', 'u1')])"
      ]
     },
     "execution_count": 5,
     "metadata": {},
     "output_type": "execute_result"
    }
   ],
   "source": [
    "scratch_s.data"
   ]
  },
  {
   "cell_type": "code",
   "execution_count": null,
   "metadata": {
    "collapsed": true
   },
   "outputs": [],
   "source": []
  }
 ],
 "metadata": {
  "kernelspec": {
   "display_name": "Python 3",
   "language": "python",
   "name": "python3"
  },
  "language_info": {
   "codemirror_mode": {
    "name": "ipython",
    "version": 3
   },
   "file_extension": ".py",
   "mimetype": "text/x-python",
   "name": "python",
   "nbconvert_exporter": "python",
   "pygments_lexer": "ipython3",
   "version": "3.6.2"
  }
 },
 "nbformat": 4,
 "nbformat_minor": 2
}
