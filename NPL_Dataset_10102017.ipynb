{
 "cells": [
  {
   "cell_type": "code",
   "execution_count": 75,
   "metadata": {},
   "outputs": [],
   "source": [
    "import hyperspy.api as hs\n",
    "import os\n",
    "%matplotlib tk"
   ]
  },
  {
   "cell_type": "code",
   "execution_count": 76,
   "metadata": {},
   "outputs": [
    {
     "name": "stdout",
     "output_type": "stream",
     "text": [
      "['scratch_Map_10.crc', 'scratch_Map_10.cpr', 'scratch_Map_1.cpr', 'scratch_Map_10.tif', 'scratch_Map_1.crc', 'scratch_Map_1.tif']\n"
     ]
    }
   ],
   "source": [
    "folder = \"./../../data/EBSD_from_NPL_10102017/\"\n",
    "files = os.listdir(folder) # returns list\n",
    "print(files)"
   ]
  },
  {
   "cell_type": "code",
   "execution_count": 77,
   "metadata": {},
   "outputs": [
    {
     "data": {
      "text/plain": [
       "├── bits_per_sample = (8, 8, 8)\n",
       "├── compression = 1\n",
       "├── image_length = 1103\n",
       "├── image_width = 1036\n",
       "├── new_subfile_type = 0\n",
       "├── photometric = 2\n",
       "├── planar_configuration = 1\n",
       "├── resolution_unit = 2\n",
       "├── rows_per_strip = 1103\n",
       "├── samples_per_pixel = 3\n",
       "├── software = b'H\\x00K\\x00L\\x00T\\x00e'\n",
       "├── strip_byte_counts = (3428124,)\n",
       "├── strip_offsets = (56,)\n",
       "├── x_resolution = (877, 10)\n",
       "└── y_resolution = (877, 10)"
      ]
     },
     "execution_count": 77,
     "metadata": {},
     "output_type": "execute_result"
    }
   ],
   "source": [
    "scratch_s = hs.load(folder+files[5])\n",
    "scratch_s.original_metadata"
   ]
  },
  {
   "cell_type": "code",
   "execution_count": 78,
   "metadata": {},
   "outputs": [],
   "source": [
    "scratch_s.plot(navigator='slider')"
   ]
  },
  {
   "cell_type": "code",
   "execution_count": null,
   "metadata": {
    "collapsed": true
   },
   "outputs": [],
   "source": []
  }
 ],
 "metadata": {
  "kernelspec": {
   "display_name": "Python 3",
   "language": "python",
   "name": "python3"
  },
  "language_info": {
   "codemirror_mode": {
    "name": "ipython",
    "version": 3
   },
   "file_extension": ".py",
   "mimetype": "text/x-python",
   "name": "python",
   "nbconvert_exporter": "python",
   "pygments_lexer": "ipython3",
   "version": "3.6.2"
  }
 },
 "nbformat": 4,
 "nbformat_minor": 2
}
