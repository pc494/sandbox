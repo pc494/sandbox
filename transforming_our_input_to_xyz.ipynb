{
 "cells": [
  {
   "cell_type": "code",
   "execution_count": 1,
   "metadata": {},
   "outputs": [
    {
     "name": "stderr",
     "output_type": "stream",
     "text": [
      "WARNING:hyperspy.api:The ipywidgets GUI elements are not available, probably because the hyperspy_gui_ipywidgets package is not installed.\n",
      "WARNING:hyperspy.api:The traitsui GUI elements are not available, probably because the hyperspy_gui_traitui package is not installed.\n"
     ]
    }
   ],
   "source": [
    "import pymatgen as pmg\n",
    "import numpy as np\n",
    "import pycrystem as pc"
   ]
  },
  {
   "cell_type": "code",
   "execution_count": 2,
   "metadata": {
    "collapsed": true
   },
   "outputs": [],
   "source": [
    "from pycrystem.utils.pyprismatic_io_utils import generate_pyprismatic_input as gpi"
   ]
  },
  {
   "cell_type": "code",
   "execution_count": 3,
   "metadata": {
    "collapsed": true
   },
   "outputs": [],
   "source": [
    "Ga = pmg.Element(\"Ga\")\n",
    "As = pmg.Element(\"As\")\n",
    "lattice = pmg.Lattice.cubic(5.65)\n",
    "\n",
    "structure = pmg.Structure.from_spacegroup(\"F-43m\",lattice, [Ga,As], [[0, 0, 0],[0.5,0.5,0.5]]) #arg1"
   ]
  },
  {
   "cell_type": "code",
   "execution_count": 4,
   "metadata": {},
   "outputs": [
    {
     "name": "stdout",
     "output_type": "stream",
     "text": [
      "Default Comment\n",
      "5.65 5.65 5.65 \n",
      "31.0 0.0 0.0 0.0 1.0 0.076 \n",
      "31.0 0.0 2.825 2.825 1.0 0.076 \n",
      "31.0 2.825 0.0 2.825 1.0 0.076 \n",
      "31.0 2.825 2.825 0.0 1.0 0.076 \n",
      "33.0 2.825 2.825 2.825 1.0 0.076 \n",
      "33.0 2.825 0.0 0.0 1.0 0.076 \n",
      "33.0 0.0 2.825 0.0 1.0 0.076 \n",
      "33.0 0.0 0.0 2.825 1.0 0.076 \n",
      "\n",
      "\n",
      "-1\n"
     ]
    }
   ],
   "source": [
    "gpi(structure,1)"
   ]
  },
  {
   "cell_type": "code",
   "execution_count": 4,
   "metadata": {},
   "outputs": [
    {
     "data": {
      "text/plain": [
       "Structure Summary\n",
       "Lattice\n",
       "    abc : 5.6500000000000004 5.6500000000000004 5.6500000000000004\n",
       " angles : 90.0 90.0 90.0\n",
       " volume : 180.36212500000002\n",
       "      A : 5.6500000000000004 0.0 0.0\n",
       "      B : 0.0 5.6500000000000004 0.0\n",
       "      C : 0.0 0.0 5.6500000000000004\n",
       "PeriodicSite: Ga (0.0000, 0.0000, 0.0000) [0.0000, 0.0000, 0.0000]\n",
       "PeriodicSite: Ga (0.0000, 2.8250, 2.8250) [0.0000, 0.5000, 0.5000]\n",
       "PeriodicSite: Ga (2.8250, 0.0000, 2.8250) [0.5000, 0.0000, 0.5000]\n",
       "PeriodicSite: Ga (2.8250, 2.8250, 0.0000) [0.5000, 0.5000, 0.0000]\n",
       "PeriodicSite: As (2.8250, 2.8250, 2.8250) [0.5000, 0.5000, 0.5000]\n",
       "PeriodicSite: As (2.8250, 0.0000, 0.0000) [0.5000, 0.0000, 0.0000]\n",
       "PeriodicSite: As (0.0000, 2.8250, 0.0000) [0.0000, 0.5000, 0.0000]\n",
       "PeriodicSite: As (0.0000, 0.0000, 2.8250) [0.0000, 0.0000, 0.5000]"
      ]
     },
     "execution_count": 4,
     "metadata": {},
     "output_type": "execute_result"
    }
   ],
   "source": [
    "structure"
   ]
  },
  {
   "cell_type": "code",
   "execution_count": null,
   "metadata": {
    "collapsed": true
   },
   "outputs": [],
   "source": []
  }
 ],
 "metadata": {
  "kernelspec": {
   "display_name": "Python 3",
   "language": "python",
   "name": "python3"
  },
  "language_info": {
   "codemirror_mode": {
    "name": "ipython",
    "version": 3
   },
   "file_extension": ".py",
   "mimetype": "text/x-python",
   "name": "python",
   "nbconvert_exporter": "python",
   "pygments_lexer": "ipython3",
   "version": "3.6.2"
  }
 },
 "nbformat": 4,
 "nbformat_minor": 2
}
