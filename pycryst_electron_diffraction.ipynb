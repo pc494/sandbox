{
 "cells": [
  {
   "cell_type": "code",
   "execution_count": 1,
   "metadata": {},
   "outputs": [
    {
     "name": "stderr",
     "output_type": "stream",
     "text": [
      "WARNING:hyperspy.api:The ipywidgets GUI elements are not available, probably because the hyperspy_gui_ipywidgets package is not installed.\n",
      "WARNING:hyperspy.api:The traitsui GUI elements are not available, probably because the hyperspy_gui_traitui package is not installed.\n"
     ]
    }
   ],
   "source": [
    "%matplotlib tk\n",
    "import numpy as np\n",
    "import hyperspy.api as hs\n",
    "import pycrystem as pc\n",
    "import pymatgen as pmg\n",
    "from pymatgen.transformations.standard_transformations import DeformStructureTransformation\n",
    "from pycrystem.indexation_generator import IndexationGenerator\n",
    "from scipy.constants import pi"
   ]
  },
  {
   "cell_type": "markdown",
   "metadata": {},
   "source": [
    "This work is based off of a notebook created by Duncan Johnstone for the Trondheim Diffraction Workshop in Summer 2017"
   ]
  },
  {
   "cell_type": "code",
   "execution_count": 11,
   "metadata": {},
   "outputs": [],
   "source": [
    "## Creating our structure\n",
    "si = pmg.Element(\"Si\")\n",
    "lattice = pmg.Lattice.cubic(5.431)\n",
    "structure = pmg.Structure.from_spacegroup(\"Fd-3m\",lattice, [si], [[0, 0, 0]])"
   ]
  },
  {
   "cell_type": "code",
   "execution_count": 3,
   "metadata": {
    "collapsed": true
   },
   "outputs": [],
   "source": [
    "## Creating our electron diffraction set up\n",
    "ediff = pc.ElectronDiffractionCalculator(300., 0.025)"
   ]
  },
  {
   "cell_type": "code",
   "execution_count": 4,
   "metadata": {},
   "outputs": [
    {
     "name": "stdout",
     "output_type": "stream",
     "text": [
      "Help on method calculate_ed_data in module pycrystem.diffraction_generator:\n",
      "\n",
      "calculate_ed_data(structure, algorithm='Ewald', reciprocal_radius=0) method of pycrystem.diffraction_generator.ElectronDiffractionCalculator instance\n",
      "    Calculates the Electron Diffraction data for a structure.\n",
      "    \n",
      "    Parameters\n",
      "    ----------\n",
      "    structure : Structure\n",
      "        The structure for which to derive the diffraction pattern. Note that\n",
      "        the structure must be rotated to the appropriate orientation.\n",
      "    algorithm : 'multi-slice' or 'Ewald'\n",
      "    \n",
      "    reciprocal_radius : float\n",
      "        The maximum radius of the sphere of reciprocal space to sample, in\n",
      "        reciprocal angstroms.\n",
      "    \n",
      "    Returns\n",
      "    -------\n",
      "    DiffractionSimulation\n",
      "        The data associated with this structure and diffraction setup.\n",
      "\n"
     ]
    }
   ],
   "source": [
    "help(ediff.calculate_ed_data)"
   ]
  },
  {
   "cell_type": "code",
   "execution_count": 5,
   "metadata": {},
   "outputs": [
    {
     "name": "stdout",
     "output_type": "stream",
     "text": [
      "Full Formula (Si8)\n",
      "Reduced Formula: Si\n",
      "abc   :   5.431000   5.431000   5.431000\n",
      "angles:  90.000000  90.000000  90.000000\n",
      "Sites (8)\n",
      "  #  SP       a     b     c\n",
      "---  ----  ----  ----  ----\n",
      "  0  Si    0     0     0\n",
      "  1  Si    0.25  0.25  0.25\n",
      "  2  Si    0     0.5   0.5\n",
      "  3  Si    0.75  0.25  0.75\n",
      "  4  Si    0.5   0     0.5\n",
      "  5  Si    0.25  0.75  0.75\n",
      "  6  Si    0.5   0.5   0\n",
      "  7  Si    0.75  0.75  0.25\n",
      "Atoms(symbols='Si8', pbc=True, cell=[5.431, 5.431, 5.431])\n"
     ]
    }
   ],
   "source": [
    "diff_dat = ediff.calculate_ed_data(structure,algorithm='multi-slice',reciprocal_radius=2.5)"
   ]
  },
  {
   "cell_type": "code",
   "execution_count": 6,
   "metadata": {
    "collapsed": true
   },
   "outputs": [],
   "source": [
    "dpi = diff_dat.as_signal(512, 0.02, 2.5)"
   ]
  },
  {
   "cell_type": "code",
   "execution_count": 7,
   "metadata": {
    "collapsed": true
   },
   "outputs": [],
   "source": [
    "diffraction = pc.ElectronDiffraction(dpi.data)"
   ]
  },
  {
   "cell_type": "code",
   "execution_count": 8,
   "metadata": {
    "collapsed": true
   },
   "outputs": [],
   "source": [
    "diffraction.plot()"
   ]
  },
  {
   "cell_type": "code",
   "execution_count": null,
   "metadata": {
    "collapsed": true
   },
   "outputs": [],
   "source": []
  }
 ],
 "metadata": {
  "kernelspec": {
   "display_name": "Python 3",
   "language": "python",
   "name": "python3"
  },
  "language_info": {
   "codemirror_mode": {
    "name": "ipython",
    "version": 3
   },
   "file_extension": ".py",
   "mimetype": "text/x-python",
   "name": "python",
   "nbconvert_exporter": "python",
   "pygments_lexer": "ipython3",
   "version": "3.6.2"
  }
 },
 "nbformat": 4,
 "nbformat_minor": 2
}
