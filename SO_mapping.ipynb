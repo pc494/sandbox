{
 "cells": [
  {
   "cell_type": "code",
   "execution_count": 1,
   "metadata": {},
   "outputs": [
    {
     "name": "stderr",
     "output_type": "stream",
     "text": [
      "WARNING:hyperspy.api:The ipywidgets GUI elements are not available, probably because the hyperspy_gui_ipywidgets package is not installed.\n",
      "WARNING:hyperspy.api:The traitsui GUI elements are not available, probably because the hyperspy_gui_traitui package is not installed.\n"
     ]
    }
   ],
   "source": [
    "%matplotlib tk\n",
    "import numpy as np\n",
    "import hyperspy.api as hs\n",
    "import pycrystem as pc\n",
    "import pymatgen as pmg\n",
    "from pymatgen.transformations.standard_transformations import DeformStructureTransformation\n",
    "from pycrystem.indexation_generator import IndexationGenerator\n",
    "from scipy.constants import pi"
   ]
  },
  {
   "cell_type": "markdown",
   "metadata": {},
   "source": [
    "This work is based off of a notebook created by Duncan Johnstone for the Trondheim Diffraction Workshop in Summer 2017"
   ]
  },
  {
   "cell_type": "code",
   "execution_count": 2,
   "metadata": {
    "collapsed": true
   },
   "outputs": [],
   "source": [
    "si = pmg.Element(\"Si\")\n",
    "lattice = pmg.Lattice.cubic(5.431)\n",
    "structure = pmg.Structure.from_spacegroup(\"Fd-3m\",lattice, [si], [[0, 0, 0]])\n",
    "ediff = pc.ElectronDiffractionCalculator(300., 0.025)"
   ]
  },
  {
   "cell_type": "markdown",
   "metadata": {},
   "source": [
    "Define a series of affine transformations from 0-2%"
   ]
  },
  {
   "cell_type": "code",
   "execution_count": 5,
   "metadata": {
    "collapsed": true
   },
   "outputs": [],
   "source": [
    "affines = []\n",
    "for s in np.linspace(0,0.02,11):\n",
    "    affine_row = [[1+s,0,0],[0,1,0],[0,0,1]]\n",
    "    affines.append(affine_row)            "
   ]
  },
  {
   "cell_type": "code",
   "execution_count": null,
   "metadata": {
    "collapsed": true
   },
   "outputs": [],
   "source": [
    "data = []\n",
    "for affine in affines:\n",
    "    deform = DeformStructureTransformation(affine)\n",
    "    strained = deform.apply_transformation(structure)\n",
    "    diff_dat = ediff.calculate_ed_data(strained, 2.5)\n",
    "    dpi = diff_dat.as_signal(512, 0.02, 2.5)\n",
    "    data.append(dpi.data)\n",
    "strain_series = pc.ElectronDiffraction(data)\n",
    "\n",
    "#stack multiple versions of tilt series together so that you have repeats of measurements for error analysis\n",
    "dp = hs.stack((strain_series, strain_series, strain_series, strain_series, strain_series, strain_series, strain_series, strain_series, strain_series, strain_series))"
   ]
  },
  {
   "cell_type": "code",
   "execution_count": null,
   "metadata": {
    "collapsed": true
   },
   "outputs": [],
   "source": [
    "dp.plot()"
   ]
  }
 ],
 "metadata": {
  "kernelspec": {
   "display_name": "Python 3",
   "language": "python",
   "name": "python3"
  },
  "language_info": {
   "codemirror_mode": {
    "name": "ipython",
    "version": 3
   },
   "file_extension": ".py",
   "mimetype": "text/x-python",
   "name": "python",
   "nbconvert_exporter": "python",
   "pygments_lexer": "ipython3",
   "version": "3.6.2"
  }
 },
 "nbformat": 4,
 "nbformat_minor": 2
}
