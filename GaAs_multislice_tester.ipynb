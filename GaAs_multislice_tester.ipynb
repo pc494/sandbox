{
 "cells": [
  {
   "cell_type": "code",
   "execution_count": 25,
   "metadata": {},
   "outputs": [],
   "source": [
    "import pycrystem as pc\n",
    "import pymatgen as pmg\n",
    "from matplotlib import pyplot as plt\n",
    "import numpy as np\n",
    "from pycrystem.utils.pyprismatic_io_utils import *\n",
    "from matplotlib import pyplot as plt\n",
    "%matplotlib tk"
   ]
  },
  {
   "cell_type": "code",
   "execution_count": 2,
   "metadata": {
    "collapsed": true
   },
   "outputs": [],
   "source": [
    "Ga = pmg.Element(\"Ga\")\n",
    "As = pmg.Element(\"As\")\n",
    "lattice = pmg.Lattice.cubic(5.65)"
   ]
  },
  {
   "cell_type": "code",
   "execution_count": 16,
   "metadata": {},
   "outputs": [
    {
     "ename": "OSError",
     "evalue": "The file the program is attempting to write to already exists, please remove it.",
     "output_type": "error",
     "traceback": [
      "\u001b[0;31m---------------------------------------------------------------------------\u001b[0m",
      "\u001b[0;31mOSError\u001b[0m                                   Traceback (most recent call last)",
      "\u001b[0;32m<ipython-input-16-07006130d987>\u001b[0m in \u001b[0;36m<module>\u001b[0;34m()\u001b[0m\n\u001b[1;32m      2\u001b[0m \u001b[0mstructure\u001b[0m\u001b[0;34m.\u001b[0m\u001b[0mmake_supercell\u001b[0m\u001b[0;34m(\u001b[0m\u001b[0;34m[\u001b[0m\u001b[0;36m6\u001b[0m\u001b[0;34m,\u001b[0m\u001b[0;36m4\u001b[0m\u001b[0;34m,\u001b[0m\u001b[0;36m1\u001b[0m\u001b[0;34m]\u001b[0m\u001b[0;34m)\u001b[0m \u001b[0;31m#As in Table 7.2 and Figure 7.2 of Kirkland\u001b[0m\u001b[0;34m\u001b[0m\u001b[0m\n\u001b[1;32m      3\u001b[0m \u001b[0mediff\u001b[0m \u001b[0;34m=\u001b[0m \u001b[0mpc\u001b[0m\u001b[0;34m.\u001b[0m\u001b[0mElectronDiffractionCalculator\u001b[0m\u001b[0;34m(\u001b[0m\u001b[0;36m200.\u001b[0m\u001b[0;34m,\u001b[0m \u001b[0;36m0.025\u001b[0m\u001b[0;34m)\u001b[0m\u001b[0;34m\u001b[0m\u001b[0m\n\u001b[0;32m----> 4\u001b[0;31m \u001b[0mdiff_dat_m\u001b[0m \u001b[0;34m=\u001b[0m \u001b[0mediff\u001b[0m\u001b[0;34m.\u001b[0m\u001b[0mcalculate_ed_data_dynamic\u001b[0m\u001b[0;34m(\u001b[0m\u001b[0mstructure\u001b[0m\u001b[0;34m)\u001b[0m\u001b[0;34m\u001b[0m\u001b[0m\n\u001b[0m",
      "\u001b[0;32m~/anaconda3/lib/python3.6/site-packages/pycrystem-0.4-py3.6-linux-x86_64.egg/pycrystem/diffraction_generator.py\u001b[0m in \u001b[0;36mcalculate_ed_data_dynamic\u001b[0;34m(self, structure, scaling, algorithm)\u001b[0m\n\u001b[1;32m     86\u001b[0m         \u001b[0;31m## This is clearly under development\u001b[0m\u001b[0;34m\u001b[0m\u001b[0;34m\u001b[0m\u001b[0m\n\u001b[1;32m     87\u001b[0m         \u001b[0;31m# Two potential places to do our scaling, need to run tests on both, + Physics discussion\u001b[0m\u001b[0;34m\u001b[0m\u001b[0;34m\u001b[0m\u001b[0m\n\u001b[0;32m---> 88\u001b[0;31m         \u001b[0mgenerate_pyprismatic_input\u001b[0m\u001b[0;34m(\u001b[0m\u001b[0mstructure\u001b[0m\u001b[0;34m)\u001b[0m\u001b[0;34m\u001b[0m\u001b[0m\n\u001b[0m\u001b[1;32m     89\u001b[0m         \u001b[0mrun_pyprismatic_simulation\u001b[0m\u001b[0;34m(\u001b[0m\u001b[0;34m)\u001b[0m\u001b[0;34m\u001b[0m\u001b[0m\n\u001b[1;32m     90\u001b[0m         \u001b[0moutput\u001b[0m \u001b[0;34m=\u001b[0m \u001b[0mimport_pyprismatic_data\u001b[0m\u001b[0;34m(\u001b[0m\u001b[0;34m)\u001b[0m\u001b[0;34m\u001b[0m\u001b[0m\n",
      "\u001b[0;32m~/anaconda3/lib/python3.6/site-packages/pycrystem-0.4-py3.6-linux-x86_64.egg/pycrystem/utils/pyprismatic_io_utils.py\u001b[0m in \u001b[0;36mgenerate_pyprismatic_input\u001b[0;34m(structure)\u001b[0m\n\u001b[1;32m     19\u001b[0m \u001b[0;34m\u001b[0m\u001b[0m\n\u001b[1;32m     20\u001b[0m         \u001b[0;32mif\u001b[0m \u001b[0mos\u001b[0m\u001b[0;34m.\u001b[0m\u001b[0mpath\u001b[0m\u001b[0;34m.\u001b[0m\u001b[0mexists\u001b[0m\u001b[0;34m(\u001b[0m\u001b[0;34m'PP_input.XYZ'\u001b[0m\u001b[0;34m)\u001b[0m\u001b[0;34m:\u001b[0m\u001b[0;34m\u001b[0m\u001b[0m\n\u001b[0;32m---> 21\u001b[0;31m             \u001b[0;32mraise\u001b[0m \u001b[0mIOError\u001b[0m\u001b[0;34m(\u001b[0m\u001b[0;34m'The file the program is attempting to write to already exists, please remove it.'\u001b[0m\u001b[0;34m)\u001b[0m\u001b[0;34m\u001b[0m\u001b[0m\n\u001b[0m\u001b[1;32m     22\u001b[0m \u001b[0;34m\u001b[0m\u001b[0m\n\u001b[1;32m     23\u001b[0m         \u001b[0mZ_list\u001b[0m \u001b[0;34m=\u001b[0m \u001b[0;34m[\u001b[0m\u001b[0;34m]\u001b[0m\u001b[0;34m\u001b[0m\u001b[0m\n",
      "\u001b[0;31mOSError\u001b[0m: The file the program is attempting to write to already exists, please remove it."
     ]
    }
   ],
   "source": [
    "structure = pmg.Structure.from_spacegroup(\"F-43m\",lattice, [Ga,As], [[0, 0, 0],[0.5,0.5,0.5]])\n",
    "structure.make_supercell([6,4,50]) #As in Table 7.2 and Figure 7.2 of Kirkland\n",
    "ediff = pc.ElectronDiffractionCalculator(200., 0.025)\n",
    "diff_dat_m = ediff.calculate_ed_data_dynamic(structure)"
   ]
  },
  {
   "cell_type": "code",
   "execution_count": 19,
   "metadata": {
    "collapsed": true
   },
   "outputs": [],
   "source": [
    "out = import_pyprismatic_data()"
   ]
  },
  {
   "cell_type": "code",
   "execution_count": 23,
   "metadata": {},
   "outputs": [],
   "source": [
    "flatter_output = np.squeeze(np.sum(out,axis=2))"
   ]
  },
  {
   "cell_type": "code",
   "execution_count": 26,
   "metadata": {},
   "outputs": [
    {
     "data": {
      "text/plain": [
       "<matplotlib.image.AxesImage at 0x7f6df56ee358>"
      ]
     },
     "execution_count": 26,
     "metadata": {},
     "output_type": "execute_result"
    }
   ],
   "source": [
    "plt.imshow(flatter_output)"
   ]
  },
  {
   "cell_type": "code",
   "execution_count": 9,
   "metadata": {},
   "outputs": [],
   "source": [
    "\"\"\"\n",
    "fig, ax = plt.subplots(figsize=(6,6))\n",
    "img = diff_dat_m.intensities.reshape(int(np.sqrt((diff_dat_m.intensities.shape[0]))),-1)\n",
    "img[256][256]=0\n",
    "imshow = ax.imshow(img)\n",
    "\"\"\"\n",
    "diffraction_m = pc.ElectronDiffraction(diff_dat_m)"
   ]
  },
  {
   "cell_type": "code",
   "execution_count": 15,
   "metadata": {},
   "outputs": [
    {
     "data": {
      "text/plain": [
       "<ElectronDiffraction, title: , dimensions: (|374, 238)>"
      ]
     },
     "execution_count": 15,
     "metadata": {},
     "output_type": "execute_result"
    }
   ],
   "source": [
    "diffraction_m"
   ]
  },
  {
   "cell_type": "code",
   "execution_count": 11,
   "metadata": {},
   "outputs": [
    {
     "data": {
      "text/plain": [
       "<bound method ElectronDiffractionCalculator.calculate_ed_data of <pycrystem.diffraction_generator.ElectronDiffractionCalculator object at 0x7f6df5cf4668>>"
      ]
     },
     "execution_count": 11,
     "metadata": {},
     "output_type": "execute_result"
    }
   ],
   "source": [
    "diff_dat_m"
   ]
  },
  {
   "cell_type": "code",
   "execution_count": 7,
   "metadata": {
    "collapsed": true
   },
   "outputs": [],
   "source": [
    "structure = pmg.Structure.from_spacegroup(\"F-43m\",lattice, [Ga,As], [[0, 0, 0],[0.5,0.5,0.5]])\n",
    "ediff = pc.ElectronDiffractionCalculator(200., 0.025)\n",
    "diff_dat_m = ediff.calculate_ed_data_kinematic(structure,reciprocal_radius=2.5)\n",
    "diffraction = pc.ElectronDiffraction(diff_dat_m.as_signal(512,0.05,2.5).data)\n",
    "diffraction.plot()"
   ]
  },
  {
   "cell_type": "code",
   "execution_count": null,
   "metadata": {
    "collapsed": true
   },
   "outputs": [],
   "source": [
    "## The above is already in reciprocal space (see Fig 7.4), need to add CTF etc"
   ]
  }
 ],
 "metadata": {
  "kernelspec": {
   "display_name": "Python 3",
   "language": "python",
   "name": "python3"
  },
  "language_info": {
   "codemirror_mode": {
    "name": "ipython",
    "version": 3
   },
   "file_extension": ".py",
   "mimetype": "text/x-python",
   "name": "python",
   "nbconvert_exporter": "python",
   "pygments_lexer": "ipython3",
   "version": "3.6.2"
  }
 },
 "nbformat": 4,
 "nbformat_minor": 2
}
