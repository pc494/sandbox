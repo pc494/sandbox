{
 "cells": [
  {
   "cell_type": "code",
   "execution_count": 22,
   "metadata": {},
   "outputs": [],
   "source": [
    "from ase import atoms  # may also be worth checking for binneed to check for the binaries perhaps\n",
    "from pyqstem import PyQSTEM\n",
    "import pymatgen as pmg\n",
    "import numpy as np\n",
    "from pymatgen.io import ase as pymatgenase\n",
    "from matplotlib import pyplot as plt\n",
    "import hyperspy.api as hs\n",
    "from pyqstem.imaging import CTF\n",
    "from pyqstem.wave import view\n",
    "% matplotlib tk"
   ]
  },
  {
   "cell_type": "code",
   "execution_count": 23,
   "metadata": {
    "collapsed": true
   },
   "outputs": [],
   "source": [
    "## Lifted from QSTEM_MWE\n",
    "\n",
    "def convert_wave_to_diffraction_pattern_array(wave):\n",
    "    array=wave.array\n",
    "    img = (np.abs(np.fft.fftshift(np.fft.fft2(array))))**2\n",
    "    #img = np.log(np.abs(np.fft.fftshift(np.fft.fft2(array))))**2\n",
    "    extent=wave.get_reciprocal_extent()\n",
    "    img=img[None,:,:]\n",
    "    img=img[-1,:,:].T\n",
    "    img[72][72] = 0 \n",
    "    return img,extent "
   ]
  },
  {
   "cell_type": "code",
   "execution_count": 24,
   "metadata": {
    "collapsed": true
   },
   "outputs": [],
   "source": [
    "Ga = pmg.Element(\"Ga\")\n",
    "As = pmg.Element(\"As\")\n",
    "lattice = pmg.Lattice.cubic(5.65)\n",
    "\n",
    "structure = pmg.Structure.from_spacegroup(\"F-43m\",lattice, [Ga,As], [[0, 0, 0],[0.5,0.5,0.5]])\n",
    "structure.make_supercell([6,4,50]) #As in Table 7.2 and Figure 7.2 of Kirkland"
   ]
  },
  {
   "cell_type": "code",
   "execution_count": 34,
   "metadata": {
    "collapsed": true
   },
   "outputs": [],
   "source": [
    "accelerating_voltage = 200\n",
    "\n",
    "qstem = PyQSTEM('TEM') #initialise a TEM object\n",
    "qstem.set_atoms(pymatgenase.AseAtomsAdaptor.get_atoms(structure)) #this does a pymatgen ---> conversion\n",
    "qstem.build_wave('plane',accelerating_voltage,(144,144)) ## where do these hardwired numbers come from\n",
    "num_slices=100 ### what should this number be?\n",
    "qstem.build_potential(num_slices)\n",
    "qstem.run() ## this now means we have a wave that has passed through our sample\n",
    "wave=qstem.get_wave()\n",
    "\n",
    "exit,exit_extent = convert_wave_to_diffraction_pattern_array(wave)"
   ]
  },
  {
   "cell_type": "code",
   "execution_count": 35,
   "metadata": {
    "collapsed": true
   },
   "outputs": [],
   "source": [
    "ctf = CTF(defocus=500,Cs=5*10**4,focal_spread=30)\n",
    "img_wave=wave.apply_ctf(ctf)\n",
    "img,img_extent = convert_wave_to_diffraction_pattern_array(img_wave)"
   ]
  },
  {
   "cell_type": "code",
   "execution_count": 40,
   "metadata": {
    "collapsed": true
   },
   "outputs": [],
   "source": [
    "resample=.18 # Angstrom/pixel\n",
    "dose=1*10**4 #electrons/Angstrom squared\n",
    "dose = 0\n",
    "img_down=img_wave.detect(resample=resample)"
   ]
  },
  {
   "cell_type": "code",
   "execution_count": 41,
   "metadata": {},
   "outputs": [],
   "source": [
    "fig, ax = plt.subplots(figsize=(6,6))\n",
    "imshow = ax.imshow(exit)\n",
    "#plt.figure()"
   ]
  },
  {
   "cell_type": "code",
   "execution_count": 38,
   "metadata": {},
   "outputs": [],
   "source": [
    "fig, ax = plt.subplots(figsize=(6,6))\n",
    "imshow = ax.imshow(img)\n",
    "#plt.figure()"
   ]
  },
  {
   "cell_type": "code",
   "execution_count": 42,
   "metadata": {},
   "outputs": [],
   "source": [
    "fig, ax = plt.subplots(figsize=(6,6))\n",
    "imshow = ax.imshow(img_down.T)"
   ]
  },
  {
   "cell_type": "code",
   "execution_count": 43,
   "metadata": {
    "collapsed": true
   },
   "outputs": [],
   "source": [
    "img_wave.detect?"
   ]
  },
  {
   "cell_type": "code",
   "execution_count": null,
   "metadata": {
    "collapsed": true
   },
   "outputs": [],
   "source": []
  }
 ],
 "metadata": {
  "kernelspec": {
   "display_name": "Python 3",
   "language": "python",
   "name": "python3"
  },
  "language_info": {
   "codemirror_mode": {
    "name": "ipython",
    "version": 3
   },
   "file_extension": ".py",
   "mimetype": "text/x-python",
   "name": "python",
   "nbconvert_exporter": "python",
   "pygments_lexer": "ipython3",
   "version": "3.6.2"
  }
 },
 "nbformat": 4,
 "nbformat_minor": 2
}
